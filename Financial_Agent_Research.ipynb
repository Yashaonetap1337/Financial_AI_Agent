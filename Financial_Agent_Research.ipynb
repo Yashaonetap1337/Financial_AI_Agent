{
 "cells": [
  {
   "cell_type": "code",
   "execution_count": null,
   "id": "dcc56e9e",
   "metadata": {},
   "outputs": [
    {
     "name": "stderr",
     "output_type": "stream",
     "text": [
      "d:\\Python\\AI_agent\\venv\\Lib\\site-packages\\tqdm\\auto.py:21: TqdmWarning: IProgress not found. Please update jupyter and ipywidgets. See https://ipywidgets.readthedocs.io/en/stable/user_install.html\n",
      "  from .autonotebook import tqdm as notebook_tqdm\n"
     ]
    },
    {
     "data": {
      "text/plain": [
       "True"
      ]
     },
     "execution_count": 1,
     "metadata": {},
     "output_type": "execute_result"
    }
   ],
   "source": [
    "import os\n",
    "from dotenv import load_dotenv\n",
    "from smolagents import OpenAIServerModel, ToolCallingAgent, Tool\n",
    "from typing import List, Dict, Union\n",
    "from sqlalchemy import create_engine, text, inspect\n",
    "import re\n",
    "import requests\n",
    "from sqlalchemy import (\n",
    "    create_engine,\n",
    "    inspect,\n",
    "    text,\n",
    "    exc,\n",
    "    Engine \n",
    ")\n",
    "from sqlalchemy.exc import SQLAlchemyError as exc\n",
    "import decimal\n",
    "import datetime\n",
    "\n",
    "load_dotenv()"
   ]
  },
  {
   "cell_type": "code",
   "execution_count": 2,
   "id": "5e85777a",
   "metadata": {},
   "outputs": [
    {
     "name": "stdout",
     "output_type": "stream",
     "text": [
      "OpenTelemetry Tracing Details\n",
      "|  Phoenix Project: default\n",
      "|  Span Processor: SimpleSpanProcessor\n",
      "|  Collector Endpoint: localhost:4317\n",
      "|  Transport: gRPC\n",
      "|  Transport Headers: {'user-agent': '****'}\n",
      "|  \n",
      "|  Using a default SpanProcessor. `add_span_processor` will overwrite this default.\n",
      "|  \n",
      "|  WARNING: It is strongly advised to use a BatchSpanProcessor in production environments.\n",
      "|  \n",
      "|  `register` has set this TracerProvider as the global OpenTelemetry default.\n",
      "|  To disable this behavior, call `register` with `set_global_tracer_provider=False`.\n",
      "\n"
     ]
    }
   ],
   "source": [
    "from phoenix.otel import register\n",
    "from openinference.instrumentation.smolagents import SmolagentsInstrumentor\n",
    "\n",
    "register()\n",
    "SmolagentsInstrumentor().instrument()"
   ]
  },
  {
   "cell_type": "markdown",
   "id": "bb8f2a7b",
   "metadata": {},
   "source": [
    "# Инициализация инструментов"
   ]
  },
  {
   "cell_type": "markdown",
   "id": "486e1a84",
   "metadata": {},
   "source": [
    "## Конвертация валюты"
   ]
  },
  {
   "cell_type": "code",
   "execution_count": 3,
   "id": "78a0be2e",
   "metadata": {},
   "outputs": [],
   "source": [
    "class CurrencyConversionTool(Tool):\n",
    "    \"\"\"Инструмент для конвертации валют с использованием API exchangerate-api.com.\"\"\"\n",
    "    name = \"currency_converter\"\n",
    "    description = \"Используется для конвертации валюты и получения актуальных курсов валют. Конвертирует указанную сумму из базовой валюты в целевую.\"\n",
    "    inputs = {\n",
    "        \"base_currency\": {\"type\": \"string\", \"description\": \"Базовая валюта (например, 'USD').\"},\n",
    "        \"target_currency\": {\"type\": \"string\", \"description\": \"Целевая валюта (например, 'EUR').\"},\n",
    "        \"amount\": {\"type\": \"number\", \"description\": \"Сумма для конвертации. По умолчанию 1.0.\", \"nullable\": True}\n",
    "    }\n",
    "    output_type = \"object\"\n",
    "\n",
    "    def __init__(self, api_key: str):\n",
    "        \"\"\"Инициализирует инструмент с ключом API.\n",
    "\n",
    "        Args:\n",
    "            api_key: Ключ API для exchangerate-api.com.\n",
    "        \"\"\"\n",
    "        super().__init__()\n",
    "        if not api_key:\n",
    "            raise ValueError(\"Необходимо предоставить ключ API для CurrencyConversionTool\")\n",
    "        self.api_key = api_key\n",
    "\n",
    "    def forward(self, base_currency: str, target_currency: str, amount: float = 1.0) -> Dict[str, float]: \n",
    "        \"\"\"Выполняет конвертацию валюты.\n",
    "\n",
    "        Args:\n",
    "            base_currency: Код валюты для конвертации. Например, 'USD'.\n",
    "            target_currency: Код валюты, в которую нужно конвертировать. Например, 'EUR'.\n",
    "            amount: Сумма для конвертации. По умолчанию 1.0.\n",
    "\n",
    "        Returns:\n",
    "            Tuple[float, float]: Кортеж, содержащий (conversion_rate, conversion_result).\n",
    "            conversion_rate - обменный курс между валютами.\n",
    "            conversion_result - сконвертированная сумма в целевой валюте.\n",
    "        \"\"\"\n",
    "        endpoint = f\"https://v6.exchangerate-api.com/v6/{self.api_key}/latest/{base_currency.upper()}\"\n",
    "\n",
    "        try:\n",
    "            response = requests.get(endpoint, timeout=10)\n",
    "            response.raise_for_status()\n",
    "            data = response.json()\n",
    "            \n",
    "            if data.get(\"result\") != \"success\":\n",
    "                raise ValueError(f\"API Error: {data.get('error-type', 'Unknown')}\")\n",
    "            \n",
    "            rates = data[\"conversion_rates\"]\n",
    "            if target_currency.upper() not in rates:\n",
    "                raise ValueError(f\"Валюта {target_currency} не найдена\")\n",
    "            \n",
    "            rate = rates[target_currency.upper()]\n",
    "            return {\n",
    "                \"conversion_rate\": rate,\n",
    "                \"conversion_result\": amount * rate\n",
    "            }\n",
    "            \n",
    "        except requests.RequestException as e:\n",
    "            raise ConnectionError(f\"Ошибка запроса: {str(e)}\")"
   ]
  },
  {
   "cell_type": "markdown",
   "id": "20f70e8f",
   "metadata": {},
   "source": [
    "## Обращение к базе данных"
   ]
  },
  {
   "cell_type": "code",
   "execution_count": null,
   "id": "4ca82fe7",
   "metadata": {},
   "outputs": [],
   "source": [
    "engine = create_engine(\"sqlite:///user_transactions.db\") \n",
    "inspector = inspect(engine)"
   ]
  },
  {
   "cell_type": "code",
   "execution_count": 7,
   "id": "9b5b6df6",
   "metadata": {},
   "outputs": [],
   "source": [
    "class ListTablesTool(Tool):\n",
    "    name = \"list_tables\"\n",
    "    description = \"Возвращает структуру таблиц с примерами данных и уникальными значениями столбцов\"\n",
    "    inputs: dict = {}\n",
    "    output_type: str = \"array\"\n",
    "\n",
    "    def __init__(self, db_url: str = \"sqlite:///user_transactions.db\"):\n",
    "        super().__init__()\n",
    "        self.engine = create_engine(db_url)\n",
    "        self.inspector = inspect(self.engine)\n",
    "\n",
    "    def _get_column_samples(self, table: str, column: str, col_type: str) -> Dict:\n",
    "        \"\"\"Возвращает метаданные для столбца\"\"\"\n",
    "        try:\n",
    "            with self.engine.connect() as conn:\n",
    "                query = text(\n",
    "                    f\"SELECT DISTINCT {column} FROM {table} \"\n",
    "                    f\"WHERE {column} IS NOT NULL LIMIT 1000\"\n",
    "                )\n",
    "                result = conn.execute(query)\n",
    "                values = [row[0] for row in result.fetchall()]\n",
    "\n",
    "                # Форматирование значений\n",
    "                samples = []\n",
    "                for v in values[:5]:\n",
    "                    if isinstance(v, (int, float)):\n",
    "                        samples.append(f\"{v:.2f}\" if isinstance(v, float) else str(v))\n",
    "                    else:\n",
    "                        samples.append(str(v)[:50])\n",
    "\n",
    "                # Анализ уникальных значений\n",
    "                unique_count = len(values)\n",
    "                metadata = {\n",
    "                    \"name\": column,\n",
    "                    \"type\": col_type,\n",
    "                    \"unique_values\": unique_count,\n",
    "                    \"examples\": samples if unique_count > 0 else [\"NULL\"]\n",
    "                }\n",
    "\n",
    "                #Специальная обработка для валют\n",
    "                if column.lower() == \"currency\":\n",
    "                    metadata[\"allowed_values\"] = [\"USD\", \"RUB\", \"EUR\"]\n",
    "                \n",
    "                return metadata\n",
    "\n",
    "        except SQLAlchemyError as e:\n",
    "            return {\n",
    "                \"name\": column,\n",
    "                \"type\": col_type,\n",
    "                \"error\": str(e)\n",
    "            }\n",
    "\n",
    "    def forward(self) -> List[Dict]:\n",
    "        \"\"\"Возвращает расширенную структуру таблиц\"\"\"\n",
    "\n",
    "        tables_meta = []\n",
    "        table_names = self.inspector.get_table_names()\n",
    "        \n",
    "        for table in table_names:\n",
    "            # Получаем оригинальный DDL\n",
    "            with self.engine.connect() as conn:\n",
    "                result = conn.execute(\n",
    "                    text(f\"SELECT sql FROM sqlite_schema WHERE type='table' AND name='{table}';\")\n",
    "                )\n",
    "                create_statement = result.scalar()\n",
    "\n",
    "            # Собираем метаданные столбцов\n",
    "            columns_meta = []\n",
    "            for col in self.inspector.get_columns(table):\n",
    "                col_meta = self._get_column_samples(table, col['name'], str(col['type']))\n",
    "                columns_meta.append(col_meta)\n",
    "\n",
    "            # Формируем комментарии для DDL\n",
    "            comments = []\n",
    "            for col in columns_meta:\n",
    "                comment = f\"/* {col['name']}: \"\n",
    "                if \"allowed_values\" in col:\n",
    "                    comment += f\"Allowed values: {', '.join(col['allowed_values'])}. \"\n",
    "                comment += f\"Примеры: {', '.join(col['examples'])} */\"\n",
    "                comments.append(comment)\n",
    "                \n",
    "            tables_meta.append({\n",
    "                \"table_name\": table,\n",
    "                \"ddl\": create_statement,\n",
    "                \"columns\": columns_meta,\n",
    "                \"ddl_with_comments\": f\"{create_statement}\\n\" + \"\\n\".join(comments)\n",
    "            })\n",
    "\n",
    "        return tables_meta\n"
   ]
  },
  {
   "cell_type": "code",
   "execution_count": null,
   "id": "fb5630ad",
   "metadata": {},
   "outputs": [],
   "source": [
    "class ExecuteQueryTool(Tool):\n",
    "    name = \"execute_query\"\n",
    "    description = \"\"\"\n",
    "    Безопасно выполняет SQL-запросы SELECT к финансовой базе данных.\n",
    "    \"\"\"\n",
    "    inputs = {\n",
    "        \"query\": {\n",
    "            \"type\": \"string\", \n",
    "            \"description\": \"SQL-запрос SELECT. Примеры: \"\n",
    "                           \"1. SELECT currency, SUM(amount) FROM transactions WHERE operation_type = 'income' GROUP BY currency \"\n",
    "                           \"2. SELECT * FROM transactions WHERE location = 'Diaz PLC' AND operation_date > '2025-01-01'\"\n",
    "        }\n",
    "    }\n",
    "    output_type = \"array\"\n",
    "\n",
    "    def __init__(self, engine: Engine):\n",
    "        super().__init__()\n",
    "        self.engine = engine\n",
    "\n",
    "    def forward(self, query: str) -> List[Dict]:\n",
    "        \"\"\"Выполняет SQL-запрос с валидацией и обработкой ошибок\"\"\"\n",
    "        try:\n",
    "            self._validate_query(query)\n",
    "            \n",
    "            with self.engine.connect() as conn:\n",
    "                result = conn.execute(text(query).execution_options(autocommit=True))\n",
    "                \n",
    "                if not result.returns_rows:\n",
    "                    return [{\"message\": \"Запрос успешно выполнен (нет результатов)\"}]\n",
    "\n",
    "                columns = result.keys()\n",
    "                return [\n",
    "                    {col: self._convert_value(row[col]) for col in columns}\n",
    "                    for row in result.mappings()\n",
    "                ]\n",
    "                \n",
    "        except exc as e:\n",
    "            return [{\"error\": \"Ошибка базы данных\", \"details\": str(e)}]\n",
    "        except Exception as e:\n",
    "            return [{\"error\": \"Внутренняя ошибка\", \"details\": str(e)}]\n",
    "\n",
    "    def _convert_value(self, value):\n",
    "        \"\"\"Конвертирует специальные типы данных\"\"\"\n",
    "        if isinstance(value, decimal.Decimal):\n",
    "            return float(value)\n",
    "        if isinstance(value, datetime.date):\n",
    "            return value.isoformat() \n",
    "        return value\n",
    "\n",
    "    def _validate_query(self, query: str):\n",
    "        \"\"\"Проверяет запрос на безопасность\"\"\"\n",
    "        query = query.upper().strip()\n",
    "        \n",
    "        # Проверка типа запроса\n",
    "        if not query.startswith(\"SELECT\"):\n",
    "            raise ValueError(\"Разрешены только SELECT-запросы\")\n",
    "\n",
    "        # Запрещенные операции\n",
    "        forbidden_keywords = {\n",
    "            \"INSERT\", \"UPDATE\", \"DELETE\", \"DROP\", \n",
    "            \"ALTER\", \"CREATE\", \"TRUNCATE\", \"GRANT\"\n",
    "        }\n",
    "        for keyword in forbidden_keywords:\n",
    "            if keyword in query:\n",
    "                raise ValueError(f\"Запрещенная операция: {keyword}\")\n",
    "\n",
    "        # Проверка доступных таблиц\n",
    "        allowed_tables = {\"TRANSACTIONS\", \"CURRENCIES\"} \n",
    "        from_match = re.search(r\"FROM\\s+(\\w+)\", query, re.IGNORECASE)\n",
    "        if from_match and from_match.group(1).upper() not in allowed_tables:\n",
    "            raise ValueError(\"Доступ к этой таблице запрещен\")"
   ]
  },
  {
   "cell_type": "markdown",
   "id": "f57b6abc",
   "metadata": {},
   "source": [
    "## Калькулятор"
   ]
  },
  {
   "cell_type": "code",
   "execution_count": null,
   "id": "e974f70a",
   "metadata": {},
   "outputs": [],
   "source": [
    "class CalculatorTool(Tool):\n",
    "    name = \"calculator\"\n",
    "    description = \"\"\"\n",
    "    Выполняет математические вычисления. Поддерживает:\n",
    "    - Базовые арифметические операции (+-*/)\n",
    "    - Суммирование списка чисел\n",
    "    - Работу с десятичными числами\n",
    "    \"\"\"\n",
    "    inputs = {\n",
    "        \"expression\": {\n",
    "            \"type\": \"string\",\n",
    "            \"description\": \"Выражение для вычисления. Примеры: \"\n",
    "                          \"'45.7 + 128.91', \"\n",
    "                          \"'сумма 100 200 300'\"\n",
    "        }\n",
    "    }\n",
    "    output_type = \"float\"\n",
    "\n",
    "    def forward(self, expression: str) -> Dict[str, Union[float, str]]:\n",
    "        try:\n",
    "            # Нормализация выражения\n",
    "            expr = expression.lower().replace(',', '.').strip()\n",
    "            \n",
    "            # Обработка команды \"сумма\"\n",
    "            if expr.startswith(\"сумма\"):\n",
    "                numbers = [float(n) for n in re.findall(r'\\d+\\.?\\d*', expr)]\n",
    "                result = sum(numbers)\n",
    "            else:\n",
    "                # Проверка на безопасные символы\n",
    "                if not re.fullmatch(r'^[\\d\\s\\.\\+\\-\\*\\/\\(\\)]+$', expr):\n",
    "                    raise ValueError(\"Выражение содержит недопустимые символы\")\n",
    "                \n",
    "                # Замена альтернативных символов операций\n",
    "                expr = expr.replace('×', '*').replace('÷', '/')\n",
    "                \n",
    "                # Безопасное вычисление\n",
    "                result = eval(expr, {'__builtins__': None}, {})\n",
    "            \n",
    "            return {\"result\": round(float(result), 2)}\n",
    "            \n",
    "        except Exception as e:\n",
    "            return {\"error\": f\"Ошибка вычисления: {str(e)}\"}"
   ]
  },
  {
   "cell_type": "markdown",
   "id": "6a3bfbca",
   "metadata": {},
   "source": [
    "# Инициализация модели"
   ]
  },
  {
   "cell_type": "code",
   "execution_count": 113,
   "id": "711f7bd0",
   "metadata": {},
   "outputs": [],
   "source": [
    "model = OpenAIServerModel(\n",
    "    model_id=\"deepseek-ai/DeepSeek-R1-Distill-Llama-70B-free\",\n",
    "    api_base=\"https://api.together.xyz/v1/\",\n",
    "    api_key=os.environ[\"TOGETHER_API_KEY\"],\n",
    "    temperature=0.0,\n",
    ")"
   ]
  },
  {
   "cell_type": "code",
   "execution_count": 114,
   "id": "c0e1bee1",
   "metadata": {},
   "outputs": [],
   "source": [
    "currency_api_key = os.environ[\"currency_api_key\"]"
   ]
  },
  {
   "cell_type": "code",
   "execution_count": null,
   "id": "56c499cd",
   "metadata": {},
   "outputs": [],
   "source": [
    "agent_MLE = ToolCallingAgent(\n",
    "    tools = [\n",
    "        ListTablesTool(),\n",
    "        CurrencyConversionTool(currency_api_key),\n",
    "        ExecuteQueryTool(engine),\n",
    "        CalculatorTool(),\n",
    "        ],\n",
    "    model = model,\n",
    ")"
   ]
  },
  {
   "cell_type": "code",
   "execution_count": 126,
   "id": "2e5acdd1",
   "metadata": {},
   "outputs": [],
   "source": [
    "Financial_Agent_Prompt = '''\n",
    "Ты — интеллектуальный финансовый ассистент, специализирующийся на работе с базами данных и валютными операциями. Твоя задача — точно и эффективно решать финансовые запросы, используя доступные инструменты.\n",
    "\n",
    "### Принципы работы:\n",
    "1. **Последовательность действий**: Действуй пошагово, используя цикл \"Action → Observation\"\n",
    "2. **Точность данных**: Всегда проверяй структуру данных перед запросами\n",
    "3. **Если запрос общий** : Возвращай final_answer\n",
    "\n",
    "### Строгие правила форматирования ответов:\n",
    "1. ВСЕ ответы должны быть в формате VALID JSON\n",
    "2. Никаких комментариев, пояснений или текста вне JSON\n",
    "3. При размышлениях не пиши конкретные вызовы инструментов\n",
    "\n",
    "### Доступные инструменты:\n",
    "{%- for tool in tools.values() %}\n",
    "- {{ tool.name }}: {{ tool.description }}\n",
    "    Принимаемые входы: {{tool.inputs}}\n",
    "    Типы возвращаемых данных: {{tool.output_type}}\n",
    "{%- endfor %}\n",
    "\n",
    "\n",
    "### Правила выполнения:\n",
    "1. **Обязательность действий**: Каждый шаг должен заканчиваться вызовом инструмента\n",
    "2. **Проверка данных**: Всегда начинай с list_tables при работе с новыми запросами, связанными с базой данных\n",
    "3. **Оптимальные запросы**: Формируй SQL-запросы, которые:\n",
    "   - Выбирают только нужные поля\n",
    "   - Содержат условия WHERE для фильтрации\n",
    "   - Используют агрегатные функции при необходимости\n",
    "4. **Обработка ошибок**: При получении ошибки анализируй её и корректируй запрос\n",
    "5. Чтобы выдать окончательный ответ на задачу, используй JSON-блок с инструментом \"name\": \"final_answer\". Это единственный способ завершить выполнение задачи — иначе ты застрянешь в бесконечном цикле. Твой финальный вывод должен выглядеть так:\n",
    "  Action:\n",
    "  {\n",
    "    \"name\": \"final_answer\",\n",
    "    \"arguments\": {\"answer\": \"вставь здесь свой окончательный ответ\"}\n",
    "  }\n",
    "\n",
    "### Примеры работы:\n",
    "\n",
    "---\n",
    "Пример 1: Анализ расходов\n",
    "Задача: «Сколько всего денег я потратил первого январе 2025 года в рублях?»\n",
    "\n",
    "Action:\n",
    "{\n",
    "  \"name\": \"list_tables\",\n",
    "  \"arguments\": {}\n",
    "}\n",
    "Observation: {'table_name': 'transactions', 'ddl': 'CREATE TABLE transactions (\\n        id INTEGER PRIMARY KEY \n",
    "AUTOINCREMENT,\\n        currency TEXT,\\n        amount REAL,\\n        operation_type TEXT,\\n        location \n",
    "TEXT,\\n        comment TEXT,\\n        operation_date TEXT\\n    )', 'columns': |{'name': 'id', 'type': 'INTEGER', \n",
    "'unique_values': 1000, 'examples': |'1', '2', '3', '4', '5']}, {'name': 'currency', 'type': 'TEXT', \n",
    "'unique_values': 2, 'examples': |'USD', 'RUB'], 'allowed_values': |'USD', 'RUB', 'EUR']}, {'name': 'amount', \n",
    "'type': 'REAL', 'unique_values': 1000, 'examples': |'2907.07', '5333.08', '4579.34', '3387.71', '3628.03']}, \n",
    "{'name': 'operation_type', 'type': 'TEXT', 'unique_values': 2, 'examples': |'income', 'expense']}, {'name': \n",
    "'location', 'type': 'TEXT', 'unique_values': 1000, 'examples': |'Fry, Morales and Owens', 'Young-Jones', 'Miller \n",
    "Ltd', 'Larson and Sons', 'Banks Group']}, {'name': 'comment', 'type': 'TEXT', 'unique_values': 1000, 'examples': \n",
    "|'Marriage somebody begin.', 'Such control challenge make.', 'Community dinner successful.', 'Can.', 'Cup form \n",
    "generation.']}, {'name': 'operation_date', 'type': 'TEXT', 'unique_values': 395, 'examples': |'2024-11-29', \n",
    "'2024-12-26', '2024-11-23', '2025-02-23', '2025-03-25']}]\n",
    "\n",
    "Action:\n",
    "{\n",
    "  \"name\": \"execute_query\",\n",
    "  \"arguments\": {\n",
    "    \"query\": \"SELECT amount, currency FROM transactions WHERE operation_type = 'expense' AND operation_date = '2025-01-01'\"\n",
    "  }\n",
    "}\n",
    "Observation: [{'amount': 3482.12, 'currency': 'RUB'}, {'amount': 5429.09, 'currency': 'USD'}, {'amount': 6619.26, \n",
    "'currency': 'USD'}, {'amount': 1072.47, 'currency': 'USD'}, {'amount': 3264.92, 'currency': 'RUB'}, {'amount': \n",
    "7980.51, 'currency': 'USD'}, {'amount': 9867.05, 'currency': 'USD'}, {'amount': 3810.68, 'currency': 'USD'}, \n",
    "{'amount': 474.57, 'currency': 'USD'}, {'amount': 1699.91, 'currency': 'USD'}, {'amount': 7845.17, 'currency': \n",
    "'USD'}, {'amount': 1873.52, 'currency': 'USD'}, {'amount': 3170.8, 'currency': 'USD'}]\n",
    "\n",
    "Action:\n",
    "{\n",
    "  \"name\": \"currency_converter\",\n",
    "  \"arguments\": {\n",
    "    \"base_currency\": \"USD\",\n",
    "    \"target_currency\": \"RUB\",\n",
    "    \"amount\": 1500\n",
    "  }\n",
    "}\n",
    "Observation: {\"amount\": 1620.75, \"rate\": 1.0805}\n",
    "\n",
    "Action:\n",
    "{\n",
    "  \"name\": \"calculator\",\n",
    "  \"arguments\": { 5429.09 * 1.0805 + 3482.12 + 3810.68 * 1.0805\n",
    "  }\n",
    "}\n",
    "Observation: {\"amount\": 10054.09}\n",
    "\n",
    "Action:\n",
    "{\n",
    "  \"name\": \"final_answer\",\n",
    "  \"arguments\": {\n",
    "    \"answer\": \"Траты за 1 января 2025 года составили 10054.09 рублей\"\n",
    "  }\n",
    "}\n",
    "\n",
    "---\n",
    "Пример 2: Конвертация валют\n",
    "Задача: «Сколько будет 1500 EUR в USD по текущему курсу?»\n",
    "\n",
    "Action:\n",
    "{\n",
    "  \"name\": \"currency_converter\",\n",
    "  \"arguments\": {\n",
    "    \"base_currency\": \"EUR\",\n",
    "    \"target_currency\": \"USD\",\n",
    "    \"amount\": 1500\n",
    "  }\n",
    "}\n",
    "Observation: {\"amount\": 1620.75, \"rate\": 1.0805}\n",
    "\n",
    "Action:\n",
    "{\n",
    "  \"name\": \"final_answer\",\n",
    "  \"arguments\": {\n",
    "    \"answer\": \"1500 EUR = 1620.75 USD (курс 1.0805)\"\n",
    "  }\n",
    "}\n",
    "\n",
    "---\n",
    "Пример 3: Получение данных о базе данных\n",
    "Задача: «Какие таблицы содержатся в базе данных»\n",
    "\n",
    "Action:\n",
    "{\n",
    "  \"name\": \"list_tables\",\n",
    "  \"arguments\": {}\n",
    "}\n",
    "Observation: {'table_name': 'transactions', 'ddl': 'CREATE TABLE transactions (\\n        id INTEGER PRIMARY KEY \n",
    "AUTOINCREMENT,\\n        currency TEXT,\\n        amount REAL,\\n        operation_type TEXT,\\n        location \n",
    "TEXT,\\n        comment TEXT,\\n        operation_date TEXT\\n    )', 'columns': |{'name': 'id', 'type': 'INTEGER', \n",
    "'unique_values': 1000, 'examples': |'1', '2', '3', '4', '5']}, {'name': 'currency', 'type': 'TEXT', \n",
    "'unique_values': 2, 'examples': |'USD', 'RUB'], 'allowed_values': |'USD', 'RUB', 'EUR']}, {'name': 'amount', \n",
    "'type': 'REAL', 'unique_values': 1000, 'examples': |'2907.07', '5333.08', '4579.34', '3387.71', '3628.03']}, \n",
    "{'name': 'operation_type', 'type': 'TEXT', 'unique_values': 2, 'examples': |'income', 'expense']}, {'name': \n",
    "'location', 'type': 'TEXT', 'unique_values': 1000, 'examples': |'Fry, Morales and Owens', 'Young-Jones', 'Miller \n",
    "Ltd', 'Larson and Sons', 'Banks Group']}, {'name': 'comment', 'type': 'TEXT', 'unique_values': 1000, 'examples': \n",
    "|'Marriage somebody begin.', 'Such control challenge make.', 'Community dinner successful.', 'Can.', 'Cup form \n",
    "generation.']}, {'name': 'operation_date', 'type': 'TEXT', 'unique_values': 395, 'examples': |'2024-11-29', \n",
    "'2024-12-26', '2024-11-23', '2025-02-23', '2025-03-25']}\n",
    "\n",
    "Action:\n",
    "{\n",
    "  \"name\": \"final_answer\",\n",
    "  \"arguments\": {\n",
    "    \"answer\": \"В базе данных присутствует таблица transactions c названиями колонок : \"id\", \"amount\", \"currency\", \"operation_type\", \"location\", \"commet\", \"operation_date\"\"\n",
    "  }\n",
    "}\n",
    "\n",
    "### Критические требования:\n",
    "1. Никогда не изменяй базу данных (только SELECT)\n",
    "2. Все суммы в ответах должны указывать валюту\n",
    "3. Для дат используй формат YYYY-MM-DD\n",
    "4. При работе с периодами всегда проверяй наличие данных\n",
    "5. Если запрос требует нескольких шагов - сохраняй промежуточные результаты\n",
    "6. Все вычисления выполняй через calculator\n",
    "7. Ответ через `final_answer` должен включать не только итоговую строку, но и краткое обоснование каждого шага, ссылки на использованные инструменты и пояснение формул или SQL-конструкций.\n",
    "\n",
    "Твоя цель — предоставлять точные, проверяемые финансовые данные с минимальным количеством запросов.'''"
   ]
  },
  {
   "cell_type": "code",
   "execution_count": null,
   "id": "37699db4",
   "metadata": {},
   "outputs": [],
   "source": [
    "agent_MLE.prompt_templates['system_prompt'] = Financial_Agent_Prompt"
   ]
  },
  {
   "cell_type": "code",
   "execution_count": 128,
   "id": "2ee44efd",
   "metadata": {},
   "outputs": [
    {
     "name": "stdout",
     "output_type": "stream",
     "text": [
      "\n",
      "Ты — интеллектуальный финансовый ассистент, специализирующийся на работе с базами данных и валютными операциями. Твоя задача — точно и эффективно решать финансовые запросы, используя доступные инструменты.\n",
      "\n",
      "### Принципы работы:\n",
      "1. **Последовательность действий**: Действуй пошагово, используя цикл \"Action → Observation\"\n",
      "2. **Точность данных**: Всегда проверяй структуру данных перед запросами\n",
      "3. **Если запрос общий** : Возвращай final_answer\n",
      "\n",
      "### Строгие правила форматирования ответов:\n",
      "1. ВСЕ ответы должны быть в формате VALID JSON\n",
      "2. Никаких комментариев, пояснений или текста вне JSON\n",
      "3. При размышлениях не пиши конкретные вызовы инструментов\n",
      "\n",
      "### Инструкции по вычислениям:\n",
      "1. Все вычисления выполняй через calculator\n",
      "2. Для суммирования используй формат: \"сумма 100 200 300\"\n",
      "3. Для сложных выражений: \"45.7 + 128.91 * 0.2\"\n",
      "\n",
      "### Доступные инструменты:\n",
      "- list_tables: Возвращает структуру таблиц с примерами данных и уникальными значениями столбцов\n",
      "    Принимаемые входы: {}\n",
      "    Типы возвращаемых данных: array\n",
      "- currency_converter: Используется для конвертации валюты и получения актуальных курсов валют. Конвертирует указанную сумму из базовой валюты в целевую.\n",
      "    Принимаемые входы: {'base_currency': {'type': 'string', 'description': \"Базовая валюта (например, 'USD').\"}, 'target_currency': {'type': 'string', 'description': \"Целевая валюта (например, 'EUR').\"}, 'amount': {'type': 'number', 'description': 'Сумма для конвертации. По умолчанию 1.0.', 'nullable': True}}\n",
      "    Типы возвращаемых данных: object\n",
      "- execute_query: \n",
      "    Безопасно выполняет SQL-запросы SELECT к финансовой базе данных.\n",
      "    \n",
      "    Принимаемые входы: {'query': {'type': 'string', 'description': \"SQL-запрос SELECT. Примеры: 1. SELECT currency, SUM(amount) FROM transactions WHERE operation_type = 'income' GROUP BY currency 2. SELECT * FROM transactions WHERE location = 'Diaz PLC' AND operation_date > '2025-01-01'\"}}\n",
      "    Типы возвращаемых данных: array\n",
      "- calculator: \n",
      "    Выполняет математические вычисления. Поддерживает:\n",
      "    - Базовые арифметические операции (+-*/)\n",
      "    - Суммирование списка чисел\n",
      "    - Работу с десятичными числами\n",
      "    \n",
      "    Принимаемые входы: {'expression': {'type': 'string', 'description': \"Выражение для вычисления. Примеры: '45.7 + 128.91', 'сумма 100 200 300'\"}}\n",
      "    Типы возвращаемых данных: number\n",
      "- final_answer: Provides a final answer to the given problem.\n",
      "    Принимаемые входы: {'answer': {'type': 'any', 'description': 'The final answer to the problem'}}\n",
      "    Типы возвращаемых данных: any\n",
      "\n",
      "\n",
      "### Правила выполнения:\n",
      "1. **Обязательность действий**: Каждый шаг должен заканчиваться вызовом инструмента\n",
      "2. **Проверка данных**: Всегда начинай с list_tables при работе с новыми запросами, связанными с базой данных\n",
      "3. **Оптимальные запросы**: Формируй SQL-запросы, которые:\n",
      "   - Выбирают только нужные поля\n",
      "   - Содержат условия WHERE для фильтрации\n",
      "   - Используют агрегатные функции при необходимости\n",
      "4. **Обработка ошибок**: При получении ошибки анализируй её и корректируй запрос\n",
      "5. Чтобы выдать окончательный ответ на задачу, используй JSON-блок с инструментом \"name\": \"final_answer\". Это единственный способ завершить выполнение задачи — иначе ты застрянешь в бесконечном цикле. Твой финальный вывод должен выглядеть так:\n",
      "  Action:\n",
      "  {\n",
      "    \"name\": \"final_answer\",\n",
      "    \"arguments\": {\"answer\": \"вставь здесь свой окончательный ответ\"}\n",
      "  }\n",
      "\n",
      "### Примеры работы:\n",
      "\n",
      "---\n",
      "Пример 1: Анализ расходов\n",
      "Задача: «Какие категории расходов превышают 1000 USD в этом месяце?»\n",
      "\n",
      "Action:\n",
      "{\n",
      "  \"name\": \"list_tables\",\n",
      "  \"arguments\": {}\n",
      "}\n",
      "Observation: {\"tables\": [\"transactions\"], \"columns\": [\"amount\", \"currency\", \"operation_type\", \"location\", \"operation_date\"]}\n",
      "\n",
      "Action:\n",
      "{\n",
      "  \"name\": \"execute_query\",\n",
      "  \"arguments\": {\n",
      "    \"query\": \"SELECT location, SUM(amount) as total FROM transactions WHERE operation_type = 'expense' AND operation_date BETWEEN '2025-01-01' AND '2025-01-31' GROUP BY location HAVING SUM(amount) > 1000\"\n",
      "  }\n",
      "}\n",
      "Observation: [{\"location\": \"marketing\", \"total\": 1500.00}, {\"location\": \"office\", \"total\": 1200.50}]\n",
      "\n",
      "Action:\n",
      "{\n",
      "  \"name\": \"final_answer\",\n",
      "  \"arguments\": {\n",
      "    \"answer\": \"Категории с расходами >1000 USD: marketing (1500.00), office (1200.50)\"\n",
      "  }\n",
      "}\n",
      "\n",
      "---\n",
      "Пример 2: Конвертация валют\n",
      "Задача: «Сколько будет 1500 EUR в USD по текущему курсу?»\n",
      "\n",
      "Action:\n",
      "{\n",
      "  \"name\": \"currency_converter\",\n",
      "  \"arguments\": {\n",
      "    \"base_currency\": \"EUR\",\n",
      "    \"target_currency\": \"USD\",\n",
      "    \"amount\": 1500\n",
      "  }\n",
      "}\n",
      "Observation: {\"amount\": 1620.75, \"rate\": 1.0805}\n",
      "\n",
      "Action:\n",
      "{\n",
      "  \"name\": \"final_answer\",\n",
      "  \"arguments\": {\n",
      "    \"answer\": \"1500 EUR = 1620.75 USD (курс 1.0805)\"\n",
      "  }\n",
      "}\n",
      "\n",
      "---\n",
      "Пример 3: Получение данных о базе данных\n",
      "Задача: «Какие таблицы содержатся в базе данных»\n",
      "\n",
      "Action:\n",
      "{\n",
      "  \"name\": \"list_tables\",\n",
      "  \"arguments\": {}\n",
      "}\n",
      "Observation: {'table_name': 'transactions', 'ddl': 'CREATE TABLE transactions (\n",
      "        id INTEGER PRIMARY KEY \n",
      "AUTOINCREMENT,\n",
      "        currency TEXT,\n",
      "        amount REAL,\n",
      "        operation_type TEXT,\n",
      "        location \n",
      "TEXT,\n",
      "        comment TEXT,\n",
      "        operation_date TEXT\n",
      "    )', 'columns': |{'name': 'id', 'type': 'INTEGER', \n",
      "'unique_values': 1000, 'examples': |'1', '2', '3', '4', '5']}, {'name': 'currency', 'type': 'TEXT', \n",
      "'unique_values': 2, 'examples': |'USD', 'RUB'], 'allowed_values': |'USD', 'RUB', 'EUR']}, {'name': 'amount', \n",
      "'type': 'REAL', 'unique_values': 1000, 'examples': |'2907.07', '5333.08', '4579.34', '3387.71', '3628.03']}, \n",
      "{'name': 'operation_type', 'type': 'TEXT', 'unique_values': 2, 'examples': |'income', 'expense']}, {'name': \n",
      "'location', 'type': 'TEXT', 'unique_values': 1000, 'examples': |'Fry, Morales and Owens', 'Young-Jones', 'Miller \n",
      "Ltd', 'Larson and Sons', 'Banks Group']}, {'name': 'comment', 'type': 'TEXT', 'unique_values': 1000, 'examples': \n",
      "|'Marriage somebody begin.', 'Such control challenge make.', 'Community dinner successful.', 'Can.', 'Cup form \n",
      "generation.']}, {'name': 'operation_date', 'type': 'TEXT', 'unique_values': 395, 'examples': |'2024-11-29', \n",
      "'2024-12-26', '2024-11-23', '2025-02-23', '2025-03-25']}]\n",
      "\n",
      "Action:\n",
      "{\n",
      "  \"name\": \"final_answer\",\n",
      "  \"arguments\": {\n",
      "    \"answer\": \"В базе данных присутствует таблица transactions c названиями колонок : \"id\", \"amount\", \"currency\", \"operation_type\", \"location\", \"commet\", \"operation_date\"\"\n",
      "  }\n",
      "}\n",
      "\n",
      "### Критические требования:\n",
      "1. Никогда не изменяй базу данных (только SELECT)\n",
      "2. Все суммы в ответах должны указывать валюту\n",
      "3. Для дат используй формат YYYY-MM-DD\n",
      "4. При работе с периодами всегда проверяй наличие данных\n",
      "5. Если запрос требует нескольких шагов - сохраняй промежуточные результаты\n",
      "6. Ответ через `final_answer` должен включать не только итоговую строку, но и краткое обоснование каждого шага, ссылки на использованные инструменты и пояснение формул или SQL-конструкций.\n",
      "\n",
      "Твоя цель — предоставлять точные, проверяемые финансовые данные с минимальным количеством запросов.\n"
     ]
    }
   ],
   "source": [
    "print(agent_MLE.system_prompt)"
   ]
  },
  {
   "cell_type": "code",
   "execution_count": 131,
   "id": "57a2609a",
   "metadata": {},
   "outputs": [],
   "source": [
    "task = ''' Сколько всего денег я потратил первого январе 2025 года. Учти все расходы и переведи к одной валюте, а именно к рублям?\n",
    "'''"
   ]
  },
  {
   "cell_type": "code",
   "execution_count": 132,
   "id": "464bb0c2",
   "metadata": {},
   "outputs": [
    {
     "data": {
      "text/html": [
       "<pre style=\"white-space:pre;overflow-x:auto;line-height:normal;font-family:Menlo,'DejaVu Sans Mono',consolas,'Courier New',monospace\"><span style=\"color: #d4b702; text-decoration-color: #d4b702\">╭──────────────────────────────────────────────────── </span><span style=\"color: #d4b702; text-decoration-color: #d4b702; font-weight: bold\">New run</span><span style=\"color: #d4b702; text-decoration-color: #d4b702\"> ────────────────────────────────────────────────────╮</span>\n",
       "<span style=\"color: #d4b702; text-decoration-color: #d4b702\">│</span>                                                                                                                 <span style=\"color: #d4b702; text-decoration-color: #d4b702\">│</span>\n",
       "<span style=\"color: #d4b702; text-decoration-color: #d4b702\">│</span> <span style=\"font-weight: bold\">Сколько всего денег я потратил первого январе 2025 года. Учти все расходы и переведи к одной валюте, а именно к</span> <span style=\"color: #d4b702; text-decoration-color: #d4b702\">│</span>\n",
       "<span style=\"color: #d4b702; text-decoration-color: #d4b702\">│</span> <span style=\"font-weight: bold\">рублям?</span>                                                                                                         <span style=\"color: #d4b702; text-decoration-color: #d4b702\">│</span>\n",
       "<span style=\"color: #d4b702; text-decoration-color: #d4b702\">│</span>                                                                                                                 <span style=\"color: #d4b702; text-decoration-color: #d4b702\">│</span>\n",
       "<span style=\"color: #d4b702; text-decoration-color: #d4b702\">╰─ OpenAIServerModel - deepseek-ai/DeepSeek-R1-Distill-Llama-70B-free ────────────────────────────────────────────╯</span>\n",
       "</pre>\n"
      ],
      "text/plain": [
       "\u001b[38;2;212;183;2m╭─\u001b[0m\u001b[38;2;212;183;2m───────────────────────────────────────────────────\u001b[0m\u001b[38;2;212;183;2m \u001b[0m\u001b[1;38;2;212;183;2mNew run\u001b[0m\u001b[38;2;212;183;2m \u001b[0m\u001b[38;2;212;183;2m───────────────────────────────────────────────────\u001b[0m\u001b[38;2;212;183;2m─╮\u001b[0m\n",
       "\u001b[38;2;212;183;2m│\u001b[0m                                                                                                                 \u001b[38;2;212;183;2m│\u001b[0m\n",
       "\u001b[38;2;212;183;2m│\u001b[0m \u001b[1mСколько всего денег я потратил первого январе 2025 года. Учти все расходы и переведи к одной валюте, а именно к\u001b[0m \u001b[38;2;212;183;2m│\u001b[0m\n",
       "\u001b[38;2;212;183;2m│\u001b[0m \u001b[1mрублям?\u001b[0m                                                                                                         \u001b[38;2;212;183;2m│\u001b[0m\n",
       "\u001b[38;2;212;183;2m│\u001b[0m                                                                                                                 \u001b[38;2;212;183;2m│\u001b[0m\n",
       "\u001b[38;2;212;183;2m╰─\u001b[0m\u001b[38;2;212;183;2m OpenAIServerModel - deepseek-ai/DeepSeek-R1-Distill-Llama-70B-free \u001b[0m\u001b[38;2;212;183;2m───────────────────────────────────────────\u001b[0m\u001b[38;2;212;183;2m─╯\u001b[0m\n"
      ]
     },
     "metadata": {},
     "output_type": "display_data"
    },
    {
     "data": {
      "text/html": [
       "<pre style=\"white-space:pre;overflow-x:auto;line-height:normal;font-family:Menlo,'DejaVu Sans Mono',consolas,'Courier New',monospace\"><span style=\"color: #d4b702; text-decoration-color: #d4b702\">━━━━━━━━━━━━━━━━━━━━━━━━━━━━━━━━━━━━━━━━━━━━━━━━━━━━━ </span><span style=\"font-weight: bold\">Step </span><span style=\"color: #008080; text-decoration-color: #008080; font-weight: bold\">1</span><span style=\"color: #d4b702; text-decoration-color: #d4b702\"> ━━━━━━━━━━━━━━━━━━━━━━━━━━━━━━━━━━━━━━━━━━━━━━━━━━━━━━</span>\n",
       "</pre>\n"
      ],
      "text/plain": [
       "\u001b[38;2;212;183;2m━━━━━━━━━━━━━━━━━━━━━━━━━━━━━━━━━━━━━━━━━━━━━━━━━━━━━ \u001b[0m\u001b[1mStep \u001b[0m\u001b[1;36m1\u001b[0m\u001b[38;2;212;183;2m ━━━━━━━━━━━━━━━━━━━━━━━━━━━━━━━━━━━━━━━━━━━━━━━━━━━━━━\u001b[0m\n"
      ]
     },
     "metadata": {},
     "output_type": "display_data"
    },
    {
     "data": {
      "text/html": [
       "<pre style=\"white-space:pre;overflow-x:auto;line-height:normal;font-family:Menlo,'DejaVu Sans Mono',consolas,'Courier New',monospace\">╭─────────────────────────────────────────────────────────────────────────────────────────────────────────────────╮\n",
       "│ Calling tool: 'list_tables' with arguments: {}                                                                  │\n",
       "╰─────────────────────────────────────────────────────────────────────────────────────────────────────────────────╯\n",
       "</pre>\n"
      ],
      "text/plain": [
       "╭─────────────────────────────────────────────────────────────────────────────────────────────────────────────────╮\n",
       "│ Calling tool: 'list_tables' with arguments: {}                                                                  │\n",
       "╰─────────────────────────────────────────────────────────────────────────────────────────────────────────────────╯\n"
      ]
     },
     "metadata": {},
     "output_type": "display_data"
    },
    {
     "data": {
      "text/html": [
       "<pre style=\"white-space:pre;overflow-x:auto;line-height:normal;font-family:Menlo,'DejaVu Sans Mono',consolas,'Courier New',monospace\">Observations: |<span style=\"font-weight: bold\">{</span><span style=\"color: #008000; text-decoration-color: #008000\">'table_name'</span>: <span style=\"color: #008000; text-decoration-color: #008000\">'transactions'</span>, <span style=\"color: #008000; text-decoration-color: #008000\">'ddl'</span>: <span style=\"color: #008000; text-decoration-color: #008000\">'CREATE TABLE transactions (\\n        id INTEGER PRIMARY KEY </span>\n",
       "<span style=\"color: #008000; text-decoration-color: #008000\">AUTOINCREMENT,\\n        currency TEXT,\\n        amount REAL,\\n        operation_type TEXT,\\n        location </span>\n",
       "<span style=\"color: #008000; text-decoration-color: #008000\">TEXT,\\n        comment TEXT,\\n        operation_date TEXT\\n    )'</span>, <span style=\"color: #008000; text-decoration-color: #008000\">'columns'</span>: |<span style=\"font-weight: bold\">{</span><span style=\"color: #008000; text-decoration-color: #008000\">'name'</span>: <span style=\"color: #008000; text-decoration-color: #008000\">'id'</span>, <span style=\"color: #008000; text-decoration-color: #008000\">'type'</span>: <span style=\"color: #008000; text-decoration-color: #008000\">'INTEGER'</span>, \n",
       "<span style=\"color: #008000; text-decoration-color: #008000\">'unique_values'</span>: <span style=\"color: #008080; text-decoration-color: #008080; font-weight: bold\">1000</span>, <span style=\"color: #008000; text-decoration-color: #008000\">'examples'</span>: |<span style=\"color: #008000; text-decoration-color: #008000\">'1'</span>, <span style=\"color: #008000; text-decoration-color: #008000\">'2'</span>, <span style=\"color: #008000; text-decoration-color: #008000\">'3'</span>, <span style=\"color: #008000; text-decoration-color: #008000\">'4'</span>, <span style=\"color: #008000; text-decoration-color: #008000\">'5'</span><span style=\"font-weight: bold\">]}</span>, <span style=\"font-weight: bold\">{</span><span style=\"color: #008000; text-decoration-color: #008000\">'name'</span>: <span style=\"color: #008000; text-decoration-color: #008000\">'currency'</span>, <span style=\"color: #008000; text-decoration-color: #008000\">'type'</span>: <span style=\"color: #008000; text-decoration-color: #008000\">'TEXT'</span>, \n",
       "<span style=\"color: #008000; text-decoration-color: #008000\">'unique_values'</span>: <span style=\"color: #008080; text-decoration-color: #008080; font-weight: bold\">2</span>, <span style=\"color: #008000; text-decoration-color: #008000\">'examples'</span>: |<span style=\"color: #008000; text-decoration-color: #008000\">'USD'</span>, <span style=\"color: #008000; text-decoration-color: #008000\">'RUB'</span><span style=\"font-weight: bold\">]</span>, <span style=\"color: #008000; text-decoration-color: #008000\">'allowed_values'</span>: |<span style=\"color: #008000; text-decoration-color: #008000\">'USD'</span>, <span style=\"color: #008000; text-decoration-color: #008000\">'RUB'</span>, <span style=\"color: #008000; text-decoration-color: #008000\">'EUR'</span><span style=\"font-weight: bold\">]}</span>, <span style=\"font-weight: bold\">{</span><span style=\"color: #008000; text-decoration-color: #008000\">'name'</span>: <span style=\"color: #008000; text-decoration-color: #008000\">'amount'</span>, \n",
       "<span style=\"color: #008000; text-decoration-color: #008000\">'type'</span>: <span style=\"color: #008000; text-decoration-color: #008000\">'REAL'</span>, <span style=\"color: #008000; text-decoration-color: #008000\">'unique_values'</span>: <span style=\"color: #008080; text-decoration-color: #008080; font-weight: bold\">1000</span>, <span style=\"color: #008000; text-decoration-color: #008000\">'examples'</span>: |<span style=\"color: #008000; text-decoration-color: #008000\">'2907.07'</span>, <span style=\"color: #008000; text-decoration-color: #008000\">'5333.08'</span>, <span style=\"color: #008000; text-decoration-color: #008000\">'4579.34'</span>, <span style=\"color: #008000; text-decoration-color: #008000\">'3387.71'</span>, <span style=\"color: #008000; text-decoration-color: #008000\">'3628.03'</span><span style=\"font-weight: bold\">]}</span>, \n",
       "<span style=\"font-weight: bold\">{</span><span style=\"color: #008000; text-decoration-color: #008000\">'name'</span>: <span style=\"color: #008000; text-decoration-color: #008000\">'operation_type'</span>, <span style=\"color: #008000; text-decoration-color: #008000\">'type'</span>: <span style=\"color: #008000; text-decoration-color: #008000\">'TEXT'</span>, <span style=\"color: #008000; text-decoration-color: #008000\">'unique_values'</span>: <span style=\"color: #008080; text-decoration-color: #008080; font-weight: bold\">2</span>, <span style=\"color: #008000; text-decoration-color: #008000\">'examples'</span>: |<span style=\"color: #008000; text-decoration-color: #008000\">'income'</span>, <span style=\"color: #008000; text-decoration-color: #008000\">'expense'</span><span style=\"font-weight: bold\">]}</span>, <span style=\"font-weight: bold\">{</span><span style=\"color: #008000; text-decoration-color: #008000\">'name'</span>: \n",
       "<span style=\"color: #008000; text-decoration-color: #008000\">'location'</span>, <span style=\"color: #008000; text-decoration-color: #008000\">'type'</span>: <span style=\"color: #008000; text-decoration-color: #008000\">'TEXT'</span>, <span style=\"color: #008000; text-decoration-color: #008000\">'unique_values'</span>: <span style=\"color: #008080; text-decoration-color: #008080; font-weight: bold\">1000</span>, <span style=\"color: #008000; text-decoration-color: #008000\">'examples'</span>: |<span style=\"color: #008000; text-decoration-color: #008000\">'Fry, Morales and Owens'</span>, <span style=\"color: #008000; text-decoration-color: #008000\">'Young-Jones'</span>, <span style=\"color: #008000; text-decoration-color: #008000\">'Miller </span>\n",
       "<span style=\"color: #008000; text-decoration-color: #008000\">Ltd'</span>, <span style=\"color: #008000; text-decoration-color: #008000\">'Larson and Sons'</span>, <span style=\"color: #008000; text-decoration-color: #008000\">'Banks Group'</span><span style=\"font-weight: bold\">]}</span>, <span style=\"font-weight: bold\">{</span><span style=\"color: #008000; text-decoration-color: #008000\">'name'</span>: <span style=\"color: #008000; text-decoration-color: #008000\">'comment'</span>, <span style=\"color: #008000; text-decoration-color: #008000\">'type'</span>: <span style=\"color: #008000; text-decoration-color: #008000\">'TEXT'</span>, <span style=\"color: #008000; text-decoration-color: #008000\">'unique_values'</span>: <span style=\"color: #008080; text-decoration-color: #008080; font-weight: bold\">1000</span>, <span style=\"color: #008000; text-decoration-color: #008000\">'examples'</span>: \n",
       "|<span style=\"color: #008000; text-decoration-color: #008000\">'Marriage somebody begin.'</span>, <span style=\"color: #008000; text-decoration-color: #008000\">'Such control challenge make.'</span>, <span style=\"color: #008000; text-decoration-color: #008000\">'Community dinner successful.'</span>, <span style=\"color: #008000; text-decoration-color: #008000\">'Can.'</span>, <span style=\"color: #008000; text-decoration-color: #008000\">'Cup form </span>\n",
       "<span style=\"color: #008000; text-decoration-color: #008000\">generation.'</span><span style=\"font-weight: bold\">]}</span>, <span style=\"font-weight: bold\">{</span><span style=\"color: #008000; text-decoration-color: #008000\">'name'</span>: <span style=\"color: #008000; text-decoration-color: #008000\">'operation_date'</span>, <span style=\"color: #008000; text-decoration-color: #008000\">'type'</span>: <span style=\"color: #008000; text-decoration-color: #008000\">'TEXT'</span>, <span style=\"color: #008000; text-decoration-color: #008000\">'unique_values'</span>: <span style=\"color: #008080; text-decoration-color: #008080; font-weight: bold\">395</span>, <span style=\"color: #008000; text-decoration-color: #008000\">'examples'</span>: |<span style=\"color: #008000; text-decoration-color: #008000\">'2024-11-29'</span>, \n",
       "<span style=\"color: #008000; text-decoration-color: #008000\">'2024-12-26'</span>, <span style=\"color: #008000; text-decoration-color: #008000\">'2024-11-23'</span>, <span style=\"color: #008000; text-decoration-color: #008000\">'2025-02-23'</span>, <span style=\"color: #008000; text-decoration-color: #008000\">'2025-03-25'</span><span style=\"font-weight: bold\">]}]</span>, <span style=\"color: #008000; text-decoration-color: #008000\">'ddl_with_comments'</span>: <span style=\"color: #008000; text-decoration-color: #008000\">'CREATE TABLE transactions (\\n     </span>\n",
       "<span style=\"color: #008000; text-decoration-color: #008000\">id INTEGER PRIMARY KEY AUTOINCREMENT,\\n        currency TEXT,\\n        amount REAL,\\n        operation_type TEXT,\\n</span>\n",
       "<span style=\"color: #008000; text-decoration-color: #008000\">location TEXT,\\n        comment TEXT,\\n        operation_date TEXT\\n    )\\n/* id: Примеры: 1, 2, 3, 4, 5 */\\n/* </span>\n",
       "<span style=\"color: #008000; text-decoration-color: #008000\">currency: Allowed values: USD, RUB, EUR. Примеры: USD, RUB */\\n/* amount: Примеры: 2907.07, 5333.08, 4579.34, </span>\n",
       "<span style=\"color: #008000; text-decoration-color: #008000\">3387.71, 3628.03 */\\n/* operation_type: Примеры: income, expense */\\n/* location: Примеры: Fry, Morales and Owens, </span>\n",
       "<span style=\"color: #008000; text-decoration-color: #008000\">Young-Jones, Miller Ltd, Larson and Sons, Banks Group */\\n/* comment: Примеры: Marriage somebody begin., Such </span>\n",
       "<span style=\"color: #008000; text-decoration-color: #008000\">control challenge make., Community dinner successful., Can., Cup form generation. */\\n/* operation_date: Примеры: </span>\n",
       "<span style=\"color: #008000; text-decoration-color: #008000\">2024-11-29, 2024-12-26, 2024-11-23, 2025-02-23, 2025-03-25 */'</span><span style=\"font-weight: bold\">}]</span>\n",
       "</pre>\n"
      ],
      "text/plain": [
       "Observations: |\u001b[1m{\u001b[0m\u001b[32m'table_name'\u001b[0m: \u001b[32m'transactions'\u001b[0m, \u001b[32m'ddl'\u001b[0m: \u001b[32m'CREATE TABLE transactions \u001b[0m\u001b[32m(\u001b[0m\u001b[32m\\n        id INTEGER PRIMARY KEY \u001b[0m\n",
       "\u001b[32mAUTOINCREMENT,\\n        currency TEXT,\\n        amount REAL,\\n        operation_type TEXT,\\n        location \u001b[0m\n",
       "\u001b[32mTEXT,\\n        comment TEXT,\\n        operation_date TEXT\\n    \u001b[0m\u001b[32m)\u001b[0m\u001b[32m'\u001b[0m, \u001b[32m'columns'\u001b[0m: |\u001b[1m{\u001b[0m\u001b[32m'name'\u001b[0m: \u001b[32m'id'\u001b[0m, \u001b[32m'type'\u001b[0m: \u001b[32m'INTEGER'\u001b[0m, \n",
       "\u001b[32m'unique_values'\u001b[0m: \u001b[1;36m1000\u001b[0m, \u001b[32m'examples'\u001b[0m: |\u001b[32m'1'\u001b[0m, \u001b[32m'2'\u001b[0m, \u001b[32m'3'\u001b[0m, \u001b[32m'4'\u001b[0m, \u001b[32m'5'\u001b[0m\u001b[1m]\u001b[0m\u001b[1m}\u001b[0m, \u001b[1m{\u001b[0m\u001b[32m'name'\u001b[0m: \u001b[32m'currency'\u001b[0m, \u001b[32m'type'\u001b[0m: \u001b[32m'TEXT'\u001b[0m, \n",
       "\u001b[32m'unique_values'\u001b[0m: \u001b[1;36m2\u001b[0m, \u001b[32m'examples'\u001b[0m: |\u001b[32m'USD'\u001b[0m, \u001b[32m'RUB'\u001b[0m\u001b[1m]\u001b[0m, \u001b[32m'allowed_values'\u001b[0m: |\u001b[32m'USD'\u001b[0m, \u001b[32m'RUB'\u001b[0m, \u001b[32m'EUR'\u001b[0m\u001b[1m]\u001b[0m\u001b[1m}\u001b[0m, \u001b[1m{\u001b[0m\u001b[32m'name'\u001b[0m: \u001b[32m'amount'\u001b[0m, \n",
       "\u001b[32m'type'\u001b[0m: \u001b[32m'REAL'\u001b[0m, \u001b[32m'unique_values'\u001b[0m: \u001b[1;36m1000\u001b[0m, \u001b[32m'examples'\u001b[0m: |\u001b[32m'2907.07'\u001b[0m, \u001b[32m'5333.08'\u001b[0m, \u001b[32m'4579.34'\u001b[0m, \u001b[32m'3387.71'\u001b[0m, \u001b[32m'3628.03'\u001b[0m\u001b[1m]\u001b[0m\u001b[1m}\u001b[0m, \n",
       "\u001b[1m{\u001b[0m\u001b[32m'name'\u001b[0m: \u001b[32m'operation_type'\u001b[0m, \u001b[32m'type'\u001b[0m: \u001b[32m'TEXT'\u001b[0m, \u001b[32m'unique_values'\u001b[0m: \u001b[1;36m2\u001b[0m, \u001b[32m'examples'\u001b[0m: |\u001b[32m'income'\u001b[0m, \u001b[32m'expense'\u001b[0m\u001b[1m]\u001b[0m\u001b[1m}\u001b[0m, \u001b[1m{\u001b[0m\u001b[32m'name'\u001b[0m: \n",
       "\u001b[32m'location'\u001b[0m, \u001b[32m'type'\u001b[0m: \u001b[32m'TEXT'\u001b[0m, \u001b[32m'unique_values'\u001b[0m: \u001b[1;36m1000\u001b[0m, \u001b[32m'examples'\u001b[0m: |\u001b[32m'Fry, Morales and Owens'\u001b[0m, \u001b[32m'Young-Jones'\u001b[0m, \u001b[32m'Miller \u001b[0m\n",
       "\u001b[32mLtd'\u001b[0m, \u001b[32m'Larson and Sons'\u001b[0m, \u001b[32m'Banks Group'\u001b[0m\u001b[1m]\u001b[0m\u001b[1m}\u001b[0m, \u001b[1m{\u001b[0m\u001b[32m'name'\u001b[0m: \u001b[32m'comment'\u001b[0m, \u001b[32m'type'\u001b[0m: \u001b[32m'TEXT'\u001b[0m, \u001b[32m'unique_values'\u001b[0m: \u001b[1;36m1000\u001b[0m, \u001b[32m'examples'\u001b[0m: \n",
       "|\u001b[32m'Marriage somebody begin.'\u001b[0m, \u001b[32m'Such control challenge make.'\u001b[0m, \u001b[32m'Community dinner successful.'\u001b[0m, \u001b[32m'Can.'\u001b[0m, \u001b[32m'Cup form \u001b[0m\n",
       "\u001b[32mgeneration.'\u001b[0m\u001b[1m]\u001b[0m\u001b[1m}\u001b[0m, \u001b[1m{\u001b[0m\u001b[32m'name'\u001b[0m: \u001b[32m'operation_date'\u001b[0m, \u001b[32m'type'\u001b[0m: \u001b[32m'TEXT'\u001b[0m, \u001b[32m'unique_values'\u001b[0m: \u001b[1;36m395\u001b[0m, \u001b[32m'examples'\u001b[0m: |\u001b[32m'2024-11-29'\u001b[0m, \n",
       "\u001b[32m'2024-12-26'\u001b[0m, \u001b[32m'2024-11-23'\u001b[0m, \u001b[32m'2025-02-23'\u001b[0m, \u001b[32m'2025-03-25'\u001b[0m\u001b[1m]\u001b[0m\u001b[1m}\u001b[0m\u001b[1m]\u001b[0m, \u001b[32m'ddl_with_comments'\u001b[0m: \u001b[32m'CREATE TABLE transactions \u001b[0m\u001b[32m(\u001b[0m\u001b[32m\\n     \u001b[0m\n",
       "\u001b[32mid INTEGER PRIMARY KEY AUTOINCREMENT,\\n        currency TEXT,\\n        amount REAL,\\n        operation_type TEXT,\\n\u001b[0m\n",
       "\u001b[32mlocation TEXT,\\n        comment TEXT,\\n        operation_date TEXT\\n    \u001b[0m\u001b[32m)\u001b[0m\u001b[32m\\n/* id: Примеры: 1, 2, 3, 4, 5 */\\n/* \u001b[0m\n",
       "\u001b[32mcurrency: Allowed values: USD, RUB, EUR. Примеры: USD, RUB */\\n/* amount: Примеры: 2907.07, 5333.08, 4579.34, \u001b[0m\n",
       "\u001b[32m3387.71, 3628.03 */\\n/* operation_type: Примеры: income, expense */\\n/* location: Примеры: Fry, Morales and Owens, \u001b[0m\n",
       "\u001b[32mYoung-Jones, Miller Ltd, Larson and Sons, Banks Group */\\n/* comment: Примеры: Marriage somebody begin., Such \u001b[0m\n",
       "\u001b[32mcontrol challenge make., Community dinner successful., Can., Cup form generation. */\\n/* operation_date: Примеры: \u001b[0m\n",
       "\u001b[32m2024-11-29, 2024-12-26, 2024-11-23, 2025-02-23, 2025-03-25 */'\u001b[0m\u001b[1m}\u001b[0m\u001b[1m]\u001b[0m\n"
      ]
     },
     "metadata": {},
     "output_type": "display_data"
    },
    {
     "data": {
      "text/html": [
       "<pre style=\"white-space:pre;overflow-x:auto;line-height:normal;font-family:Menlo,'DejaVu Sans Mono',consolas,'Courier New',monospace\"><span style=\"color: #7f7f7f; text-decoration-color: #7f7f7f\">[Step 1: Duration 9.19 seconds| Input tokens: 2,741 | Output tokens: 416]</span>\n",
       "</pre>\n"
      ],
      "text/plain": [
       "\u001b[2m[Step 1: Duration 9.19 seconds| Input tokens: 2,741 | Output tokens: 416]\u001b[0m\n"
      ]
     },
     "metadata": {},
     "output_type": "display_data"
    },
    {
     "data": {
      "text/html": [
       "<pre style=\"white-space:pre;overflow-x:auto;line-height:normal;font-family:Menlo,'DejaVu Sans Mono',consolas,'Courier New',monospace\"><span style=\"color: #d4b702; text-decoration-color: #d4b702\">━━━━━━━━━━━━━━━━━━━━━━━━━━━━━━━━━━━━━━━━━━━━━━━━━━━━━ </span><span style=\"font-weight: bold\">Step </span><span style=\"color: #008080; text-decoration-color: #008080; font-weight: bold\">2</span><span style=\"color: #d4b702; text-decoration-color: #d4b702\"> ━━━━━━━━━━━━━━━━━━━━━━━━━━━━━━━━━━━━━━━━━━━━━━━━━━━━━━</span>\n",
       "</pre>\n"
      ],
      "text/plain": [
       "\u001b[38;2;212;183;2m━━━━━━━━━━━━━━━━━━━━━━━━━━━━━━━━━━━━━━━━━━━━━━━━━━━━━ \u001b[0m\u001b[1mStep \u001b[0m\u001b[1;36m2\u001b[0m\u001b[38;2;212;183;2m ━━━━━━━━━━━━━━━━━━━━━━━━━━━━━━━━━━━━━━━━━━━━━━━━━━━━━━\u001b[0m\n"
      ]
     },
     "metadata": {},
     "output_type": "display_data"
    },
    {
     "data": {
      "text/html": [
       "<pre style=\"white-space:pre;overflow-x:auto;line-height:normal;font-family:Menlo,'DejaVu Sans Mono',consolas,'Courier New',monospace\">╭─────────────────────────────────────────────────────────────────────────────────────────────────────────────────╮\n",
       "│ Calling tool: 'execute_query' with arguments: {'query': \"SELECT amount, currency FROM transactions WHERE        │\n",
       "│ operation_type = 'expense' AND operation_date = '2025-01-01'\"}                                                  │\n",
       "╰─────────────────────────────────────────────────────────────────────────────────────────────────────────────────╯\n",
       "</pre>\n"
      ],
      "text/plain": [
       "╭─────────────────────────────────────────────────────────────────────────────────────────────────────────────────╮\n",
       "│ Calling tool: 'execute_query' with arguments: {'query': \"SELECT amount, currency FROM transactions WHERE        │\n",
       "│ operation_type = 'expense' AND operation_date = '2025-01-01'\"}                                                  │\n",
       "╰─────────────────────────────────────────────────────────────────────────────────────────────────────────────────╯\n"
      ]
     },
     "metadata": {},
     "output_type": "display_data"
    },
    {
     "data": {
      "text/html": [
       "<pre style=\"white-space:pre;overflow-x:auto;line-height:normal;font-family:Menlo,'DejaVu Sans Mono',consolas,'Courier New',monospace\">Observations: |<span style=\"font-weight: bold\">{</span><span style=\"color: #008000; text-decoration-color: #008000\">'amount'</span>: <span style=\"color: #008080; text-decoration-color: #008080; font-weight: bold\">3482.12</span>, <span style=\"color: #008000; text-decoration-color: #008000\">'currency'</span>: <span style=\"color: #008000; text-decoration-color: #008000\">'RUB'</span><span style=\"font-weight: bold\">}</span>, <span style=\"font-weight: bold\">{</span><span style=\"color: #008000; text-decoration-color: #008000\">'amount'</span>: <span style=\"color: #008080; text-decoration-color: #008080; font-weight: bold\">5429.09</span>, <span style=\"color: #008000; text-decoration-color: #008000\">'currency'</span>: <span style=\"color: #008000; text-decoration-color: #008000\">'USD'</span><span style=\"font-weight: bold\">}</span>, <span style=\"font-weight: bold\">{</span><span style=\"color: #008000; text-decoration-color: #008000\">'amount'</span>: <span style=\"color: #008080; text-decoration-color: #008080; font-weight: bold\">6619.26</span>, \n",
       "<span style=\"color: #008000; text-decoration-color: #008000\">'currency'</span>: <span style=\"color: #008000; text-decoration-color: #008000\">'USD'</span><span style=\"font-weight: bold\">}</span>, <span style=\"font-weight: bold\">{</span><span style=\"color: #008000; text-decoration-color: #008000\">'amount'</span>: <span style=\"color: #008080; text-decoration-color: #008080; font-weight: bold\">1072.47</span>, <span style=\"color: #008000; text-decoration-color: #008000\">'currency'</span>: <span style=\"color: #008000; text-decoration-color: #008000\">'USD'</span><span style=\"font-weight: bold\">}</span>, <span style=\"font-weight: bold\">{</span><span style=\"color: #008000; text-decoration-color: #008000\">'amount'</span>: <span style=\"color: #008080; text-decoration-color: #008080; font-weight: bold\">3264.92</span>, <span style=\"color: #008000; text-decoration-color: #008000\">'currency'</span>: <span style=\"color: #008000; text-decoration-color: #008000\">'RUB'</span><span style=\"font-weight: bold\">}</span>, <span style=\"font-weight: bold\">{</span><span style=\"color: #008000; text-decoration-color: #008000\">'amount'</span>: \n",
       "<span style=\"color: #008080; text-decoration-color: #008080; font-weight: bold\">7980.51</span>, <span style=\"color: #008000; text-decoration-color: #008000\">'currency'</span>: <span style=\"color: #008000; text-decoration-color: #008000\">'USD'</span><span style=\"font-weight: bold\">}</span>, <span style=\"font-weight: bold\">{</span><span style=\"color: #008000; text-decoration-color: #008000\">'amount'</span>: <span style=\"color: #008080; text-decoration-color: #008080; font-weight: bold\">9867.05</span>, <span style=\"color: #008000; text-decoration-color: #008000\">'currency'</span>: <span style=\"color: #008000; text-decoration-color: #008000\">'USD'</span><span style=\"font-weight: bold\">}</span>, <span style=\"font-weight: bold\">{</span><span style=\"color: #008000; text-decoration-color: #008000\">'amount'</span>: <span style=\"color: #008080; text-decoration-color: #008080; font-weight: bold\">3810.68</span>, <span style=\"color: #008000; text-decoration-color: #008000\">'currency'</span>: <span style=\"color: #008000; text-decoration-color: #008000\">'USD'</span><span style=\"font-weight: bold\">}</span>, \n",
       "<span style=\"font-weight: bold\">{</span><span style=\"color: #008000; text-decoration-color: #008000\">'amount'</span>: <span style=\"color: #008080; text-decoration-color: #008080; font-weight: bold\">474.57</span>, <span style=\"color: #008000; text-decoration-color: #008000\">'currency'</span>: <span style=\"color: #008000; text-decoration-color: #008000\">'USD'</span><span style=\"font-weight: bold\">}</span>, <span style=\"font-weight: bold\">{</span><span style=\"color: #008000; text-decoration-color: #008000\">'amount'</span>: <span style=\"color: #008080; text-decoration-color: #008080; font-weight: bold\">1699.91</span>, <span style=\"color: #008000; text-decoration-color: #008000\">'currency'</span>: <span style=\"color: #008000; text-decoration-color: #008000\">'USD'</span><span style=\"font-weight: bold\">}</span>, <span style=\"font-weight: bold\">{</span><span style=\"color: #008000; text-decoration-color: #008000\">'amount'</span>: <span style=\"color: #008080; text-decoration-color: #008080; font-weight: bold\">7845.17</span>, <span style=\"color: #008000; text-decoration-color: #008000\">'currency'</span>: \n",
       "<span style=\"color: #008000; text-decoration-color: #008000\">'USD'</span><span style=\"font-weight: bold\">}</span>, <span style=\"font-weight: bold\">{</span><span style=\"color: #008000; text-decoration-color: #008000\">'amount'</span>: <span style=\"color: #008080; text-decoration-color: #008080; font-weight: bold\">1873.52</span>, <span style=\"color: #008000; text-decoration-color: #008000\">'currency'</span>: <span style=\"color: #008000; text-decoration-color: #008000\">'USD'</span><span style=\"font-weight: bold\">}</span>, <span style=\"font-weight: bold\">{</span><span style=\"color: #008000; text-decoration-color: #008000\">'amount'</span>: <span style=\"color: #008080; text-decoration-color: #008080; font-weight: bold\">3170.8</span>, <span style=\"color: #008000; text-decoration-color: #008000\">'currency'</span>: <span style=\"color: #008000; text-decoration-color: #008000\">'USD'</span><span style=\"font-weight: bold\">}]</span>\n",
       "</pre>\n"
      ],
      "text/plain": [
       "Observations: |\u001b[1m{\u001b[0m\u001b[32m'amount'\u001b[0m: \u001b[1;36m3482.12\u001b[0m, \u001b[32m'currency'\u001b[0m: \u001b[32m'RUB'\u001b[0m\u001b[1m}\u001b[0m, \u001b[1m{\u001b[0m\u001b[32m'amount'\u001b[0m: \u001b[1;36m5429.09\u001b[0m, \u001b[32m'currency'\u001b[0m: \u001b[32m'USD'\u001b[0m\u001b[1m}\u001b[0m, \u001b[1m{\u001b[0m\u001b[32m'amount'\u001b[0m: \u001b[1;36m6619.26\u001b[0m, \n",
       "\u001b[32m'currency'\u001b[0m: \u001b[32m'USD'\u001b[0m\u001b[1m}\u001b[0m, \u001b[1m{\u001b[0m\u001b[32m'amount'\u001b[0m: \u001b[1;36m1072.47\u001b[0m, \u001b[32m'currency'\u001b[0m: \u001b[32m'USD'\u001b[0m\u001b[1m}\u001b[0m, \u001b[1m{\u001b[0m\u001b[32m'amount'\u001b[0m: \u001b[1;36m3264.92\u001b[0m, \u001b[32m'currency'\u001b[0m: \u001b[32m'RUB'\u001b[0m\u001b[1m}\u001b[0m, \u001b[1m{\u001b[0m\u001b[32m'amount'\u001b[0m: \n",
       "\u001b[1;36m7980.51\u001b[0m, \u001b[32m'currency'\u001b[0m: \u001b[32m'USD'\u001b[0m\u001b[1m}\u001b[0m, \u001b[1m{\u001b[0m\u001b[32m'amount'\u001b[0m: \u001b[1;36m9867.05\u001b[0m, \u001b[32m'currency'\u001b[0m: \u001b[32m'USD'\u001b[0m\u001b[1m}\u001b[0m, \u001b[1m{\u001b[0m\u001b[32m'amount'\u001b[0m: \u001b[1;36m3810.68\u001b[0m, \u001b[32m'currency'\u001b[0m: \u001b[32m'USD'\u001b[0m\u001b[1m}\u001b[0m, \n",
       "\u001b[1m{\u001b[0m\u001b[32m'amount'\u001b[0m: \u001b[1;36m474.57\u001b[0m, \u001b[32m'currency'\u001b[0m: \u001b[32m'USD'\u001b[0m\u001b[1m}\u001b[0m, \u001b[1m{\u001b[0m\u001b[32m'amount'\u001b[0m: \u001b[1;36m1699.91\u001b[0m, \u001b[32m'currency'\u001b[0m: \u001b[32m'USD'\u001b[0m\u001b[1m}\u001b[0m, \u001b[1m{\u001b[0m\u001b[32m'amount'\u001b[0m: \u001b[1;36m7845.17\u001b[0m, \u001b[32m'currency'\u001b[0m: \n",
       "\u001b[32m'USD'\u001b[0m\u001b[1m}\u001b[0m, \u001b[1m{\u001b[0m\u001b[32m'amount'\u001b[0m: \u001b[1;36m1873.52\u001b[0m, \u001b[32m'currency'\u001b[0m: \u001b[32m'USD'\u001b[0m\u001b[1m}\u001b[0m, \u001b[1m{\u001b[0m\u001b[32m'amount'\u001b[0m: \u001b[1;36m3170.8\u001b[0m, \u001b[32m'currency'\u001b[0m: \u001b[32m'USD'\u001b[0m\u001b[1m}\u001b[0m\u001b[1m]\u001b[0m\n"
      ]
     },
     "metadata": {},
     "output_type": "display_data"
    },
    {
     "data": {
      "text/html": [
       "<pre style=\"white-space:pre;overflow-x:auto;line-height:normal;font-family:Menlo,'DejaVu Sans Mono',consolas,'Courier New',monospace\"><span style=\"color: #7f7f7f; text-decoration-color: #7f7f7f\">[Step 2: Duration 11.40 seconds| Input tokens: 6,211 | Output tokens: 832]</span>\n",
       "</pre>\n"
      ],
      "text/plain": [
       "\u001b[2m[Step 2: Duration 11.40 seconds| Input tokens: 6,211 | Output tokens: 832]\u001b[0m\n"
      ]
     },
     "metadata": {},
     "output_type": "display_data"
    },
    {
     "data": {
      "text/html": [
       "<pre style=\"white-space:pre;overflow-x:auto;line-height:normal;font-family:Menlo,'DejaVu Sans Mono',consolas,'Courier New',monospace\"><span style=\"color: #d4b702; text-decoration-color: #d4b702\">━━━━━━━━━━━━━━━━━━━━━━━━━━━━━━━━━━━━━━━━━━━━━━━━━━━━━ </span><span style=\"font-weight: bold\">Step </span><span style=\"color: #008080; text-decoration-color: #008080; font-weight: bold\">3</span><span style=\"color: #d4b702; text-decoration-color: #d4b702\"> ━━━━━━━━━━━━━━━━━━━━━━━━━━━━━━━━━━━━━━━━━━━━━━━━━━━━━━</span>\n",
       "</pre>\n"
      ],
      "text/plain": [
       "\u001b[38;2;212;183;2m━━━━━━━━━━━━━━━━━━━━━━━━━━━━━━━━━━━━━━━━━━━━━━━━━━━━━ \u001b[0m\u001b[1mStep \u001b[0m\u001b[1;36m3\u001b[0m\u001b[38;2;212;183;2m ━━━━━━━━━━━━━━━━━━━━━━━━━━━━━━━━━━━━━━━━━━━━━━━━━━━━━━\u001b[0m\n"
      ]
     },
     "metadata": {},
     "output_type": "display_data"
    },
    {
     "data": {
      "text/html": [
       "<pre style=\"white-space:pre;overflow-x:auto;line-height:normal;font-family:Menlo,'DejaVu Sans Mono',consolas,'Courier New',monospace\">╭─────────────────────────────────────────────────────────────────────────────────────────────────────────────────╮\n",
       "│ Calling tool: 'currency_converter' with arguments: {'base_currency': 'USD', 'target_currency': 'RUB', 'amount': │\n",
       "│ 1}                                                                                                              │\n",
       "╰─────────────────────────────────────────────────────────────────────────────────────────────────────────────────╯\n",
       "</pre>\n"
      ],
      "text/plain": [
       "╭─────────────────────────────────────────────────────────────────────────────────────────────────────────────────╮\n",
       "│ Calling tool: 'currency_converter' with arguments: {'base_currency': 'USD', 'target_currency': 'RUB', 'amount': │\n",
       "│ 1}                                                                                                              │\n",
       "╰─────────────────────────────────────────────────────────────────────────────────────────────────────────────────╯\n"
      ]
     },
     "metadata": {},
     "output_type": "display_data"
    },
    {
     "data": {
      "text/html": [
       "<pre style=\"white-space:pre;overflow-x:auto;line-height:normal;font-family:Menlo,'DejaVu Sans Mono',consolas,'Courier New',monospace\">Observations: <span style=\"font-weight: bold\">{</span><span style=\"color: #008000; text-decoration-color: #008000\">'conversion_rate'</span>: <span style=\"color: #008080; text-decoration-color: #008080; font-weight: bold\">82.7463</span>, <span style=\"color: #008000; text-decoration-color: #008000\">'conversion_result'</span>: <span style=\"color: #008080; text-decoration-color: #008080; font-weight: bold\">82.7463</span><span style=\"font-weight: bold\">}</span>\n",
       "</pre>\n"
      ],
      "text/plain": [
       "Observations: \u001b[1m{\u001b[0m\u001b[32m'conversion_rate'\u001b[0m: \u001b[1;36m82.7463\u001b[0m, \u001b[32m'conversion_result'\u001b[0m: \u001b[1;36m82.7463\u001b[0m\u001b[1m}\u001b[0m\n"
      ]
     },
     "metadata": {},
     "output_type": "display_data"
    },
    {
     "data": {
      "text/html": [
       "<pre style=\"white-space:pre;overflow-x:auto;line-height:normal;font-family:Menlo,'DejaVu Sans Mono',consolas,'Courier New',monospace\"><span style=\"color: #7f7f7f; text-decoration-color: #7f7f7f\">[Step 3: Duration 10.96 seconds| Input tokens: 10,004 | Output tokens: 1,259]</span>\n",
       "</pre>\n"
      ],
      "text/plain": [
       "\u001b[2m[Step 3: Duration 10.96 seconds| Input tokens: 10,004 | Output tokens: 1,259]\u001b[0m\n"
      ]
     },
     "metadata": {},
     "output_type": "display_data"
    },
    {
     "data": {
      "text/html": [
       "<pre style=\"white-space:pre;overflow-x:auto;line-height:normal;font-family:Menlo,'DejaVu Sans Mono',consolas,'Courier New',monospace\"><span style=\"color: #d4b702; text-decoration-color: #d4b702\">━━━━━━━━━━━━━━━━━━━━━━━━━━━━━━━━━━━━━━━━━━━━━━━━━━━━━ </span><span style=\"font-weight: bold\">Step </span><span style=\"color: #008080; text-decoration-color: #008080; font-weight: bold\">4</span><span style=\"color: #d4b702; text-decoration-color: #d4b702\"> ━━━━━━━━━━━━━━━━━━━━━━━━━━━━━━━━━━━━━━━━━━━━━━━━━━━━━━</span>\n",
       "</pre>\n"
      ],
      "text/plain": [
       "\u001b[38;2;212;183;2m━━━━━━━━━━━━━━━━━━━━━━━━━━━━━━━━━━━━━━━━━━━━━━━━━━━━━ \u001b[0m\u001b[1mStep \u001b[0m\u001b[1;36m4\u001b[0m\u001b[38;2;212;183;2m ━━━━━━━━━━━━━━━━━━━━━━━━━━━━━━━━━━━━━━━━━━━━━━━━━━━━━━\u001b[0m\n"
      ]
     },
     "metadata": {},
     "output_type": "display_data"
    },
    {
     "data": {
      "text/html": [
       "<pre style=\"white-space:pre;overflow-x:auto;line-height:normal;font-family:Menlo,'DejaVu Sans Mono',consolas,'Courier New',monospace\">╭─────────────────────────────────────────────────────────────────────────────────────────────────────────────────╮\n",
       "│ Calling tool: 'calculator' with arguments: {'expression': '3482.12 + 3264.92 + (5429.09 * 82.7463) + (6619.26 * │\n",
       "│ 82.7463) + (1072.47 * 82.7463) + (7980.51 * 82.7463) + (9867.05 * 82.7463) + (3810.68 * 82.7463) + (474.57 *    │\n",
       "│ 82.7463) + (1699.91 * 82.7463) + (7845.17 * 82.7463) + (1873.52 * 82.7463) + (3170.8 * 82.7463)'}               │\n",
       "╰─────────────────────────────────────────────────────────────────────────────────────────────────────────────────╯\n",
       "</pre>\n"
      ],
      "text/plain": [
       "╭─────────────────────────────────────────────────────────────────────────────────────────────────────────────────╮\n",
       "│ Calling tool: 'calculator' with arguments: {'expression': '3482.12 + 3264.92 + (5429.09 * 82.7463) + (6619.26 * │\n",
       "│ 82.7463) + (1072.47 * 82.7463) + (7980.51 * 82.7463) + (9867.05 * 82.7463) + (3810.68 * 82.7463) + (474.57 *    │\n",
       "│ 82.7463) + (1699.91 * 82.7463) + (7845.17 * 82.7463) + (1873.52 * 82.7463) + (3170.8 * 82.7463)'}               │\n",
       "╰─────────────────────────────────────────────────────────────────────────────────────────────────────────────────╯\n"
      ]
     },
     "metadata": {},
     "output_type": "display_data"
    },
    {
     "name": "stderr",
     "output_type": "stream",
     "text": [
      "Invalid type dict for attribute 'output.value' value. Expected one of ['bool', 'str', 'bytes', 'int', 'float'] or a sequence of those types\n"
     ]
    },
    {
     "data": {
      "text/html": [
       "<pre style=\"white-space:pre;overflow-x:auto;line-height:normal;font-family:Menlo,'DejaVu Sans Mono',consolas,'Courier New',monospace\">Observations: <span style=\"font-weight: bold\">{</span><span style=\"color: #008000; text-decoration-color: #008000\">'result'</span>: <span style=\"color: #008080; text-decoration-color: #008080; font-weight: bold\">4131073.35</span><span style=\"font-weight: bold\">}</span>\n",
       "</pre>\n"
      ],
      "text/plain": [
       "Observations: \u001b[1m{\u001b[0m\u001b[32m'result'\u001b[0m: \u001b[1;36m4131073.35\u001b[0m\u001b[1m}\u001b[0m\n"
      ]
     },
     "metadata": {},
     "output_type": "display_data"
    },
    {
     "data": {
      "text/html": [
       "<pre style=\"white-space:pre;overflow-x:auto;line-height:normal;font-family:Menlo,'DejaVu Sans Mono',consolas,'Courier New',monospace\"><span style=\"color: #7f7f7f; text-decoration-color: #7f7f7f\">[Step 4: Duration 10.79 seconds| Input tokens: 13,926 | Output tokens: 1,771]</span>\n",
       "</pre>\n"
      ],
      "text/plain": [
       "\u001b[2m[Step 4: Duration 10.79 seconds| Input tokens: 13,926 | Output tokens: 1,771]\u001b[0m\n"
      ]
     },
     "metadata": {},
     "output_type": "display_data"
    },
    {
     "data": {
      "text/html": [
       "<pre style=\"white-space:pre;overflow-x:auto;line-height:normal;font-family:Menlo,'DejaVu Sans Mono',consolas,'Courier New',monospace\"><span style=\"color: #d4b702; text-decoration-color: #d4b702\">━━━━━━━━━━━━━━━━━━━━━━━━━━━━━━━━━━━━━━━━━━━━━━━━━━━━━ </span><span style=\"font-weight: bold\">Step </span><span style=\"color: #008080; text-decoration-color: #008080; font-weight: bold\">5</span><span style=\"color: #d4b702; text-decoration-color: #d4b702\"> ━━━━━━━━━━━━━━━━━━━━━━━━━━━━━━━━━━━━━━━━━━━━━━━━━━━━━━</span>\n",
       "</pre>\n"
      ],
      "text/plain": [
       "\u001b[38;2;212;183;2m━━━━━━━━━━━━━━━━━━━━━━━━━━━━━━━━━━━━━━━━━━━━━━━━━━━━━ \u001b[0m\u001b[1mStep \u001b[0m\u001b[1;36m5\u001b[0m\u001b[38;2;212;183;2m ━━━━━━━━━━━━━━━━━━━━━━━━━━━━━━━━━━━━━━━━━━━━━━━━━━━━━━\u001b[0m\n"
      ]
     },
     "metadata": {},
     "output_type": "display_data"
    },
    {
     "data": {
      "text/html": [
       "<pre style=\"white-space:pre;overflow-x:auto;line-height:normal;font-family:Menlo,'DejaVu Sans Mono',consolas,'Courier New',monospace\">╭─────────────────────────────────────────────────────────────────────────────────────────────────────────────────╮\n",
       "│ Calling tool: 'final_answer' with arguments: {'answer': 'Общая сумма трат за 1 января 2025 года составляет      │\n",
       "│ 4,131,073.35 рублей. Это включает все расходы, переведенные в рубли по текущему курсу 82.7463.'}                │\n",
       "╰─────────────────────────────────────────────────────────────────────────────────────────────────────────────────╯\n",
       "</pre>\n"
      ],
      "text/plain": [
       "╭─────────────────────────────────────────────────────────────────────────────────────────────────────────────────╮\n",
       "│ Calling tool: 'final_answer' with arguments: {'answer': 'Общая сумма трат за 1 января 2025 года составляет      │\n",
       "│ 4,131,073.35 рублей. Это включает все расходы, переведенные в рубли по текущему курсу 82.7463.'}                │\n",
       "╰─────────────────────────────────────────────────────────────────────────────────────────────────────────────────╯\n"
      ]
     },
     "metadata": {},
     "output_type": "display_data"
    },
    {
     "data": {
      "text/html": [
       "<pre style=\"white-space:pre;overflow-x:auto;line-height:normal;font-family:Menlo,'DejaVu Sans Mono',consolas,'Courier New',monospace\"><span style=\"color: #d4b702; text-decoration-color: #d4b702; font-weight: bold\">Final answer: Общая сумма трат за 1 января 2025 года составляет 4,131,073.35 рублей. Это включает все расходы, </span>\n",
       "<span style=\"color: #d4b702; text-decoration-color: #d4b702; font-weight: bold\">переведенные в рубли по текущему курсу 82.7463.</span>\n",
       "</pre>\n"
      ],
      "text/plain": [
       "\u001b[1;38;2;212;183;2mFinal answer: Общая сумма трат за 1 января 2025 года составляет 4,131,073.35 рублей. Это включает все расходы, \u001b[0m\n",
       "\u001b[1;38;2;212;183;2mпереведенные в рубли по текущему курсу 82.7463.\u001b[0m\n"
      ]
     },
     "metadata": {},
     "output_type": "display_data"
    },
    {
     "data": {
      "text/html": [
       "<pre style=\"white-space:pre;overflow-x:auto;line-height:normal;font-family:Menlo,'DejaVu Sans Mono',consolas,'Courier New',monospace\"><span style=\"color: #7f7f7f; text-decoration-color: #7f7f7f\">[Step 5: Duration 9.65 seconds| Input tokens: 18,240 | Output tokens: 2,227]</span>\n",
       "</pre>\n"
      ],
      "text/plain": [
       "\u001b[2m[Step 5: Duration 9.65 seconds| Input tokens: 18,240 | Output tokens: 2,227]\u001b[0m\n"
      ]
     },
     "metadata": {},
     "output_type": "display_data"
    }
   ],
   "source": [
    "analyst_result = agent_MLE.run(\n",
    "    task\n",
    ")"
   ]
  }
 ],
 "metadata": {
  "kernelspec": {
   "display_name": "venv",
   "language": "python",
   "name": "python3"
  },
  "language_info": {
   "codemirror_mode": {
    "name": "ipython",
    "version": 3
   },
   "file_extension": ".py",
   "mimetype": "text/x-python",
   "name": "python",
   "nbconvert_exporter": "python",
   "pygments_lexer": "ipython3",
   "version": "3.12.8"
  }
 },
 "nbformat": 4,
 "nbformat_minor": 5
}
